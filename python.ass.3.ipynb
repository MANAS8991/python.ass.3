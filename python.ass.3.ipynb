{
 "cells": [
  {
   "cell_type": "markdown",
   "id": "86c1b848",
   "metadata": {},
   "source": [
    "# python3"
   ]
  },
  {
   "cell_type": "code",
   "execution_count": null,
   "id": "5b99a81e",
   "metadata": {},
   "outputs": [],
   "source": [
    "##1:Why are functions advantageous to have in your programs?"
   ]
  },
  {
   "cell_type": "code",
   "execution_count": null,
   "id": "2ffae7ce",
   "metadata": {},
   "outputs": [],
   "source": [
    "Modularity and Reusability: Functions allow you to break down your program into smaller, modular units of code. By encapsulating a set of instructions within a function, you can reuse that code block whenever needed. This promotes code reusability, reduces redundancy, and makes your code more organized and maintainable.\n",
    "\n",
    "Abstraction: Functions provide a level of abstraction by hiding the implementation details of a particular functionality. You can use a function without knowing how it is implemented internally. This abstraction simplifies the complexity of your program and allows you to focus on the high-level logic.\n",
    "\n",
    "Code Organization: Functions help in organizing your code into logical units. By separating different tasks or functionalities into functions, you can improve the overall structure of your program. This makes your code easier to understand, navigate, and maintain.\n",
    "\n",
    "Code Readability: Functions make your code more readable and understandable. By giving meaningful names to functions, you can convey the purpose and functionality of that code block. Well-designed functions with proper names and clear function signatures enhance code readability, making it easier for yourself and others to comprehend and work with the code.\n",
    "\n",
    "Code Reusability: As mentioned earlier, functions promote code reusability. Once you define a function, you can call it multiple times from different parts of your program. This saves time and effort by avoiding code duplication. If you need to modify the behavior of a certain functionality, you only need to update it in one place (the function definition) rather than making changes at multiple locations.\n",
    "\n",
    "Testing and Debugging: Functions facilitate testing and debugging. With functions, you can test individual units of code in isolation, making it easier to identify and fix issues. By writing functions with well-defined inputs and outputs, you can write unit tests to verify their correctness. Functions also allow for easier debugging since you can isolate and analyze specific parts of your code independently.\n",
    "\n",
    "Code Maintainability: Functions contribute to code maintainability. By dividing your program into smaller, self-contained functions, it becomes easier to maintain and update your codebase. Modifications and bug fixes can be made to specific functions without impacting the rest of the code. This makes it easier to collaborate with other developers and maintain the code over time."
   ]
  },
  {
   "cell_type": "code",
   "execution_count": null,
   "id": "ad2961ab",
   "metadata": {},
   "outputs": [],
   "source": [
    "##2:When does the code in a function run: when it's specified or when it's called?"
   ]
  },
  {
   "cell_type": "code",
   "execution_count": null,
   "id": "8ba42e8d",
   "metadata": {},
   "outputs": [],
   "source": [
    "When you define a function, you are essentially creating a reusable block of code with a specified name and optional parameters. The code inside the function's block is not executed immediately at the point of definition. Instead, it is executed only when the function is called or invoked.\n",
    "\n",
    "To execute the code within a function, you need to call the function by its name followed by parentheses (), optionally passing any required arguments or parameters. When the function is called, the program flow transfers to the function's block, and the code inside the function is executed sequentially. Once the function's code block is completed or a return statement is encountered, the program flow returns to the point immediately after the function call.\n",
    "\n",
    "def greet():\n",
    "    print(\"Hello, World!\")\n",
    "\n",
    "print(\"Before function call\")\n",
    "greet()  # Function call\n",
    "print(\"After function call\")\n"
   ]
  },
  {
   "cell_type": "code",
   "execution_count": null,
   "id": "470598b5",
   "metadata": {},
   "outputs": [],
   "source": [
    "##3:What statement creates a function?"
   ]
  },
  {
   "cell_type": "code",
   "execution_count": null,
   "id": "692bb72b",
   "metadata": {},
   "outputs": [],
   "source": [
    "The def statement is used to create a function in Python. It is followed by the name of the function and a set of parentheses (). Optionally, you can specify parameters inside the parentheses if the function requires any input values. The function definition is then followed by a colon : to indicate the start of the function's code block, which is indented below the def statement.\n",
    "\n",
    "Here's the syntax of creating a function using the def statement:\n",
    "def function_name(parameters):\n",
    "    # Code block of the function\n",
    "    # ...\n",
    "    \n"
   ]
  },
  {
   "cell_type": "code",
   "execution_count": null,
   "id": "4e33a338",
   "metadata": {},
   "outputs": [],
   "source": [
    "##4:What is the difference between a function and a function call?"
   ]
  },
  {
   "cell_type": "code",
   "execution_count": null,
   "id": "5fdf86a6",
   "metadata": {},
   "outputs": [],
   "source": [
    "Function: A function is a named block of reusable code that performs a specific task or a set of related tasks. It is defined using the def statement in Python. Functions can take inputs (parameters) and optionally return outputs using the return statement. They are created to encapsulate a specific functionality and provide a way to reuse the code.\n",
    "\n",
    "Function Call: A function call is the act of invoking or executing a function. When you want to execute the code inside a function, you make a function call by using the function's name followed by parentheses (). Function calls allow you to pass values (arguments) to the function if it expects any. During a function call, the program flow transfers to the function's code block, executes the statements within it, and then returns to the point immediately after the function call."
   ]
  },
  {
   "cell_type": "code",
   "execution_count": null,
   "id": "cf9c0b4e",
   "metadata": {},
   "outputs": [],
   "source": [
    "##5:How many global scopes are there in a Python program? How many local scopes?"
   ]
  },
  {
   "cell_type": "code",
   "execution_count": null,
   "id": "2985353b",
   "metadata": {},
   "outputs": [],
   "source": [
    "In a Python program, there is typically one global scope and multiple local scopes.\n",
    "\n",
    "The global scope refers to the outermost scope of a Python program, where global variables and functions are defined. It exists throughout the entire program and is accessible from any part of the code.\n",
    "\n",
    "On the other hand, local scopes are created when functions or blocks of code are executed. Each function call or code block creates a new local scope. Local scopes are used to store variables and objects that are specific to a particular function or block of code. Once the function or block of code finishes executing, the local scope is destroyed, and the variables defined within it are no longer accessible.\n",
    "\n",
    "Therefore, the number of global scopes in a Python program is generally one, while the number of local scopes can vary depending on the number of function calls and code blocks executed during the program's runtime.\n"
   ]
  },
  {
   "cell_type": "code",
   "execution_count": null,
   "id": "21057ee8",
   "metadata": {},
   "outputs": [],
   "source": [
    "##6:What happens to variables in a local scope when the function call returns?"
   ]
  },
  {
   "cell_type": "code",
   "execution_count": null,
   "id": "3c931659",
   "metadata": {},
   "outputs": [],
   "source": [
    "When a function call returns in Python, the local scope associated with that function is destroyed. As a result, the variables defined within the local scope cease to exist and cannot be accessed from outside the function.\n",
    "\n",
    "Here's an example to illustrate this behavior:\n",
    "def my_function():\n",
    "    x = 10\n",
    "    print(x)\n",
    "\n",
    "my_function()\n",
    "print(x)  \n"
   ]
  },
  {
   "cell_type": "code",
   "execution_count": null,
   "id": "6205ee0a",
   "metadata": {},
   "outputs": [],
   "source": [
    "##7:What is the concept of a return value? Is it possible to have a return value in an expression?"
   ]
  },
  {
   "cell_type": "code",
   "execution_count": null,
   "id": "397c3e52",
   "metadata": {},
   "outputs": [],
   "source": [
    "The concept of a return value in programming refers to the value that a function can send back to the caller after its execution. When a function is called, it may perform certain operations and computations, and then produce a result that can be used by the calling code.\n",
    "\n",
    "In Python, you can specify a return value using the return statement within a function. This statement allows you to explicitly define the value that the function should return. \n",
    "For example:\n",
    "def add_numbers(a, b):\n",
    "    return a + b\n",
    "\n",
    "result = add_numbers(3, 5)\n",
    "print(result)  # Output: 8\n"
   ]
  },
  {
   "cell_type": "code",
   "execution_count": null,
   "id": "a5bbd78e",
   "metadata": {},
   "outputs": [],
   "source": [
    "##8:If a function does not have a return statement, what is the return value of a call to that function?"
   ]
  },
  {
   "cell_type": "code",
   "execution_count": null,
   "id": "8db309a7",
   "metadata": {},
   "outputs": [],
   "source": [
    "If a function in Python does not have a return statement, or if the return statement is without any value, the function will implicitly return None. None is a special object in Python that represents the absence of a value.\n",
    "\n",
    "Here's an example to demonstrate this behavior:\n",
    "def my_function():\n",
    "    print(\"Hello, world!\")\n",
    "\n",
    "result = my_function()\n",
    "print(result)  # Output: None\n"
   ]
  },
  {
   "cell_type": "code",
   "execution_count": null,
   "id": "8af1f322",
   "metadata": {},
   "outputs": [],
   "source": [
    "##9:How do you make a function variable refer to the global variable?"
   ]
  },
  {
   "cell_type": "code",
   "execution_count": null,
   "id": "f4bec4a0",
   "metadata": {},
   "outputs": [],
   "source": [
    "In Python, if you want to make a function variable refer to a global variable, you can use the global keyword within the function. This informs Python that the variable you are using is a global variable rather than creating a new local variable with the same name.\n",
    "\n",
    "Here's an example to illustrate how to make a function variable refer to a global variable:\n",
    "\n",
    "x = 10  # Global variable\n",
    "\n",
    "def my_function():\n",
    "    global x  # Declare 'x' as a global variable\n",
    "    x = 20   # Modify the value of the global variable 'x'\n",
    "    print(x)\n",
    "\n",
    "print(x)        # Output: 10 (initial value)\n",
    "my_function()   # Output: 20 (modified value)\n",
    "print(x)        # Output: 20 (modified value)\n"
   ]
  },
  {
   "cell_type": "code",
   "execution_count": null,
   "id": "e9317f0f",
   "metadata": {},
   "outputs": [],
   "source": [
    "##10:What is the data type of None?"
   ]
  },
  {
   "cell_type": "code",
   "execution_count": null,
   "id": "5faea29d",
   "metadata": {},
   "outputs": [],
   "source": [
    "In Python, the data type of None is NoneType. It is a special singleton object that represents the absence of a value or the lack of a return value. The NoneType is unique and there is only one instance of it, which is None.\n",
    "example:\n",
    " result = None\n",
    "print(type(result))  # Output: <class 'NoneType'>\n",
    "   "
   ]
  },
  {
   "cell_type": "code",
   "execution_count": null,
   "id": "f1d336e0",
   "metadata": {},
   "outputs": [],
   "source": [
    "##11:What does the sentence import areallyourpetsnamederic do?"
   ]
  },
  {
   "cell_type": "code",
   "execution_count": null,
   "id": "a884cc6d",
   "metadata": {},
   "outputs": [],
   "source": [
    "The sentence \"import areallyourpetsnamederic\" is not a valid Python import statement. In Python, the import keyword is used to bring modules or objects from modules into your current code, allowing you to access their functions, classes, or variables.\n",
    "\n",
    "The sentence \"import areallyourpetsnamederic\" is not a valid module name in Python. According to Python's import rules, a valid module name should follow the naming conventions, typically using lowercase letters, underscores, and digits. It should also correspond to an existing Python module that can be imported.\n",
    "\n",
    "If you attempt to run the sentence \"import areallyourpetsnamederic\" in a Python program, it will result in a ModuleNotFoundError indicating that the specified module does not exist.\n",
    "\n",
    "In summary, the sentence \"import areallyourpetsnamederic\" does not have any specific meaning or functionality in Python, as it is not a valid import statement or an existing module name.\n"
   ]
  },
  {
   "cell_type": "code",
   "execution_count": null,
   "id": "cf89a68d",
   "metadata": {},
   "outputs": [],
   "source": [
    "##12:If you had a bacon() feature in a spam module, what would you call it after importing spam?"
   ]
  },
  {
   "cell_type": "code",
   "execution_count": null,
   "id": "dbecbdda",
   "metadata": {},
   "outputs": [],
   "source": [
    "If you import the 'spam' module in your Python program, and the module contains a feature or function called 'bacon()', you can call it by using the syntax 'spam.bacon()'. This syntax specifies the module name ('spam') followed by the function name ('bacon()''), separated by a dot ('.').\n",
    "example:\n",
    "import spam\n",
    "\n",
    "spam.bacon()  # Calling the bacon() function from the spam module\n"
   ]
  },
  {
   "cell_type": "code",
   "execution_count": null,
   "id": "e2334b63",
   "metadata": {},
   "outputs": [],
   "source": [
    "##13:What can you do to save a programme from crashing if it encounters an error?"
   ]
  },
  {
   "cell_type": "code",
   "execution_count": null,
   "id": "af256e7f",
   "metadata": {},
   "outputs": [],
   "source": [
    "To handle errors and prevent a program from crashing when encountering exceptions, you can use error handling techniques such as exception handling. Python provides a built-in mechanism for catching and handling exceptions using the try-except block.\n",
    "example:\n",
    " try:\n",
    "    # Code that may cause an error\n",
    "    result = 10 / 0  # Example of a potential error\n",
    "    print(result)   # This line will not be executed if an error occurs\n",
    "except ZeroDivisionError:\n",
    "    # Code to handle the specific error (ZeroDivisionError in this case)\n",
    "    print(\"Error: Division by zero occurred\")\n",
    "   "
   ]
  },
  {
   "cell_type": "code",
   "execution_count": null,
   "id": "1913f0b8",
   "metadata": {},
   "outputs": [],
   "source": [
    "##14:What is the purpose of the try clause? What is the purpose of the except clause?"
   ]
  },
  {
   "cell_type": "code",
   "execution_count": null,
   "id": "e9c1820e",
   "metadata": {},
   "outputs": [],
   "source": [
    "The try clause in Python is used to enclose a block of code that may potentially raise an exception. Its purpose is to monitor the execution of the code within it and detect any exceptions that occur.\n",
    "\n",
    "The main purpose of the try clause is to safeguard the program from crashing when encountering errors or exceptions. By placing the potentially problematic code inside a try block, you establish an area where exceptions are monitored and can be handled appropriately.\n",
    "\n",
    "If an exception occurs within the try block, the code execution immediately jumps out of the try block, and the corresponding except block is executed to handle the exception.\n",
    "\n",
    "On the other hand, the except clause follows the try clause and specifies the actions to be taken when a particular exception occurs. It allows you to define custom error-handling logic for different types of exceptions.\n",
    "\n",
    "The purpose of the except clause is to catch and handle exceptions that occur within the try block. It provides an opportunity to gracefully handle errors, display error messages, log errors, perform recovery actions, or take any appropriate actions based on the specific exception type.\n",
    "\n",
    "By using the try-except block together, you can write code that attempts to execute potentially risky operations within the try block and define specific error-handling strategies in the corresponding except block(s). This combination helps prevent program crashes, improves fault tolerance, and enhances the overall robustness of your code by gracefully handling exceptional scenarios."
   ]
  }
 ],
 "metadata": {
  "kernelspec": {
   "display_name": "Python 3 (ipykernel)",
   "language": "python",
   "name": "python3"
  },
  "language_info": {
   "codemirror_mode": {
    "name": "ipython",
    "version": 3
   },
   "file_extension": ".py",
   "mimetype": "text/x-python",
   "name": "python",
   "nbconvert_exporter": "python",
   "pygments_lexer": "ipython3",
   "version": "3.9.12"
  }
 },
 "nbformat": 4,
 "nbformat_minor": 5
}
